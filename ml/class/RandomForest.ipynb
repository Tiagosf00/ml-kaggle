{
  "nbformat": 4,
  "nbformat_minor": 0,
  "metadata": {
    "colab": {
      "name": "RandomForest.ipynb",
      "provenance": [],
      "collapsed_sections": []
    },
    "kernelspec": {
      "name": "python3",
      "display_name": "Python 3"
    }
  },
  "cells": [
    {
      "cell_type": "markdown",
      "metadata": {
        "id": "qxGUUE01FY2J",
        "colab_type": "text"
      },
      "source": [
        "###Random Forest\n"
      ]
    },
    {
      "cell_type": "markdown",
      "metadata": {
        "colab_type": "text",
        "id": "xxYCIH0_JeWr"
      },
      "source": [
        "vamos colocar a ordem de como faremos aqui?\n",
        "\n",
        "explicar a ideia do algoritimo\n",
        "\n",
        "explicar o algoritimo\n",
        "\n",
        "e trabalhar com ele(dataset do covid-19)"
      ]
    }
  ]
}