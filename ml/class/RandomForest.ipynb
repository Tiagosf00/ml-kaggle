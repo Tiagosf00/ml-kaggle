{
  "nbformat": 4,
  "nbformat_minor": 0,
  "metadata": {
    "colab": {
      "name": "RandomForest.ipynb",
      "provenance": [],
      "collapsed_sections": [],
      "include_colab_link": true
    },
    "kernelspec": {
      "name": "python3",
      "display_name": "Python 3"
    }
  },
  "cells": [
    {
      "cell_type": "markdown",
      "metadata": {
        "id": "view-in-github",
        "colab_type": "text"
      },
      "source": [
        "<a href=\"https://colab.research.google.com/github/Tiagosf00/ml-kaggle/blob/master/ml/class/RandomForest.ipynb\" target=\"_parent\"><img src=\"https://colab.research.google.com/assets/colab-badge.svg\" alt=\"Open In Colab\"/></a>"
      ]
    },
    {
      "cell_type": "markdown",
      "metadata": {
        "id": "qxGUUE01FY2J",
        "colab_type": "text"
      },
      "source": [
        "###Random Forest\n"
      ]
    },
    {
      "cell_type": "markdown",
      "metadata": {
        "id": "vSBLNoaRGKvP",
        "colab_type": "text"
      },
      "source": [
        "vamos colocar a ordem de como faremos aqui?\n",
        "\n",
        "dataset utilizado:\n",
        "\n",
        "explicar a ideia do algoritimo\n",
        "\n",
        "explicar o algoritimo\n",
        "\n",
        "esplicar a implementação dele no skitlearn que vamo usar(https://scikit-learn.org/stable/modules/generated/sklearn.ensemble.RandomForestClassifier.html)\n",
        "\n",
        "e trabalhar com ele(dataset do covid-19 https://www.kaggle.com/einsteindata4u/covid19)\n",
        "alguma coisa ai "
      ]
    }
  ]
}