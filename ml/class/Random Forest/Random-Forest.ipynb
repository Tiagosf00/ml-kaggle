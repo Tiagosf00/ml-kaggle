{
 "cells": [
  {
   "cell_type": "markdown",
   "metadata": {},
   "source": [
    "# Random Forest\n",
    "Random Forest é um tipo de algoritmo de classificação ou regressão, ou seja, seu objetivo é predizer a classe a que um dado pertence. E como o nome pode intuir ele usa uma floresta, no caso uma floresta de [árvores de decisão](\"https://medium.com/machine-learning-beyond-deep-learning/%C3%A1rvores-de-decis%C3%A3o-3f52f6420b69\"), que já foram explicadas anteriormente. Essas árvores são usadas para chegar ao resultado final do conjunto.\n",
    "\n",
    "Essa random forest é uma técnica de [conjunto](\"https://de.wikipedia.org/wiki/Ensemble_learning\"), ou seja, ela usa múltiplos modelos preditivos menores, no caso árvores de decisão e a partir de suas múltiplas predições a floresta estabelece a sua predição final.\n",
    "\n",
    "E com essa formação, podemos ter uma predição mais precisa pois assim o erro de uma árvore pode ser corrigido pelo resto da floresta."
   ]
  },
  {
   "cell_type": "markdown",
   "metadata": {},
   "source": [
    "Para criarmos uma [Random Forest](\"https://medium.com/machina-sapiens/o-algoritmo-da-floresta-aleat%C3%B3ria-3545f6babdf8\") temos que treinar cada árvore individualmente para enfim fazermos a floresta funcionar, que é o objetivo do algoritimo, ter varios votos com viezes diferentes para juntos termos o melhor resultado. \n",
    "\n",
    "Para treinarmos cada uma das arvores, precisamos realizar o [Bagging](\"https://en.wikipedia.org/wiki/Bootstrap_aggregating\"), ou Bootstrap, que um processo de seleção de casos de treinamento, que são usados para treinar cada arvore individualmente.\n",
    "\n",
    "O resultado dado pela floresta pode ser a predição mais predita entre as arvores ou a média das predições:\n",
    "\n",
    "$\\hat{f} = \\frac{1}{B}\\sum_{b=1}^{B} f_b (x')$\n",
    "\n",
    "Podemos também estimar a incerteza da predição a partir da formula:\n",
    "\n",
    "$\\sigma = \\sqrt{\\frac{\\sum_{b=1}^{B}(f_b(x')-f)^2}{B-1}}$\n",
    "\n",
    "Abaixo temos um exemplo de um pseudocódigo de uma random forest, em que n é menor que o total de exemplos, X são os atributos, Y sãos rótulos e f sãos as arvores a serem criadas. A primeira linha estabelece os conjuntos de dados. A segunda linha cria um laço de repetição que irá criar as arvores da floresta, criando um bag, e a partir dele treinando uma arvore f nele. Depois estabelece o resultado final a partir da floresta toda."
   ]
  },
  {
   "cell_type": "markdown",
   "metadata": {},
   "source": [
    "## Pseudocódigo:\n",
    "Dado um conjunto de dados X = x¹, x², x³... e Y = y¹, y², y³...\n",
    "Para b = 1, 2, 3, ...B, repita:\n",
    "> Crie uma amostra bootstrap (X', Y') com n exemplos de (X, Y).\n",
    "\n",
    "\n",
    "> Ajuste uma árvore de decisão $f_b$ para o conjunto de treinamento (X', Y'), utilizando m atributos para a escolha de cada nó.\n",
    "\n",
    "Cria o modelo final: $\\hat{f} = \\frac{1}{B}\\sum_{b=1}^{B} f_b (x')$, que calcula os votos obtidos por cada modelo $f_b$, que tem como classificação final a mais votada.\n"
   ]
  },
  {
   "cell_type": "markdown",
   "metadata": {},
   "source": [
    "# Implementação\n",
    "\n",
    "## Parâmetros\n",
    "\n",
    "A seguir será mostrado como utilizar o código do skitlearn para [random forest de classificação](https://scikit-learn.org/stable/modules/generated/sklearn.ensemble.RandomForestClassifier.html#sklearn.ensemble.RandomForestClassifier) ela recebe diversos parâmetros para o algoritmo de predição vamos começar mostrando os principais parâmetros:\n",
    "\n",
    "\n",
    "### n_estimators\n",
    "Esse parâmetro é a forma de controlar a quantidade de árvores na floresta permitindo assim definir o custo do programa além de permitir caso necessário aumentar a precisão do programa. Isso muitas vezes não quer dizer necessariamente melhorar a acurácia, pois ao aumentar a quantidade de árvores pode ocorrer o problema de overfitting por existir árvores muito parecidas no programa.\n",
    "\n",
    "### criterion \n",
    "Esse parâmetro define o critério utilizado pelas árvores de decisão na floresta que será utilizado para reduzir a impureza da árvore, permitindo uma maior liberdade no programa convergir, para certos casos e possível que um seja menos custoso ou mais preciso que os outros, porem isso varia de base para base. Os valores que a implementação do skitlearn aceita seriam:\n",
    ">“[gini]( https://en.wikipedia.org/wiki/Decision_tree_learning#Gini_impurity )” que tenta isolar um rotulo verificando o produto da probabilidade de em uma decisão, o que significa a chance de tal variável ficar isolada vezes a probabilidade dela não ficar isolada, pois se esse valor se aproxima de 0 o programa conseguiu isolar o atributo,\n",
    "\n",
    "> “[entropy]( https://en.wikipedia.org/wiki/Decision_tree_learning#Information_gain)” que utiliza a variação da entropia como já mostrado em árvore de decisão.\n",
    "\n",
    "### max_depth\n",
    "O max_depth permite limitar a altura das árvores da floresta, o que permite limitar a complexidade da árvore, pois, ao limitar a altura também é limitada a quantidade possível de decisões na árvore o que permite impedir overfitting e diminuir o custo de memória do programa.\n",
    "\n",
    "### max_leaf_nodes\n",
    "Max_leaf_nodes limita a quantidade de folhas na árvore. Isso implica a limitação da quantidade de nós de decisão permitindo controle da complexidade, diminuição de custo, controle de overfitting e também de diminuir o custo operacional, porem é necessário ter cuidado para não causar underfitting.\n",
    "\n",
    "### min_impurity_decrease\n",
    "Essa variável define o valor mínimo de impureza para a transformação de uma folha em um nó, fazendo com que fique mais difícil da arvore fazer uma decisão ruim como overfitting, porém pode causar underfitting.\n",
    "\n",
    "### bootstrap\n",
    "Essa variável define se ocorre o bagging ou não, se ela for \"false\" todas as arvores são treinadas com o conjunto de treino inteiro, fazendo com que as árvores fiquem mais parecidas.\n",
    "\n",
    "### oob_score\n",
    "Essa variável define se o programa deve, pegar exemplos de dentro das bags para avaliar o programa. Ou seja o programa vai pegar alguns exemplos do conjunto de treinamento e misturar com o de teste para avaliar a predição, o que pode dar mais valor para o seu programa caso ele tenha recebido muitos outliers no conjunto de treinamento. Mas também ele poderi dar mais pontuação em um caso de overfitting.\n",
    "\n",
    "### [random_state]( https://scikit-learn.org/stable/glossary.html#term-random-state)\n",
    "Essa variável permite a repetibilidade do processo de predição, pois ao receber um número ele utilizara esse número como [semente](https://en.wikipedia.org/wiki/Random_seed) para a função de aleatoriedade do programa que seria o processo de bagging e de divisão da árvore. Porém quando em 'NONE' ele vai gerar um valor aleatório que será utilizado de semente o que impede que mesmo que tenha o data set e use os mesmos parâmetros tenha o mesmo resultado ao executar o programa.\n",
    "\n",
    "### max_samples\n",
    "Define o número máximo de exemplos a ser lido por cada estimador se o bootstrap for igual true. Ou seja, se o processo de bagging for permitido, esse valor indica o número máximo de exemplos em cada “bag”. Caso contrário ele diz quantos exemplos as árvores podem ler de todo o conjunto de treinamento."
   ]
  },
  {
   "cell_type": "markdown",
   "metadata": {},
   "source": [
    "## Métodos\n",
    "\n",
    "Agora que já vimos os parâmetros vamos agora mostrar como utilizar a random forest do skitlearn.\n",
    "\n",
    "\n",
    "### [fit(X, y , sample_weight=None)]( https://scikit-learn.org/stable/modules/generated/sklearn.ensemble.RandomForestClassifier.html#sklearn.ensemble.RandomForestClassifier.fit)\n",
    "Essa e a função de treinamento do algoritmo que recebe os atributos preditivos (X) e os rótulos (y) do conjunto de treinamento e a importância dos exemplos (sample_weight), com esses dados o algoritmo faz o processo de bagging com a variável X. Caso ele for permitido, pela variável bootstrap, formando n_estimators bags que são usados para treinar  n_estimators arvores na floresta aleatoriamente a partir da semente random_state. Com os pesos definidos por sample_weight que ajuda a definir os exemplos mais importantes para predição, possibilitando um ajuste caso a base seja desbalanceada.\n",
    "\n",
    "\n",
    "### [predict(X)]( https://scikit-learn.org/stable/modules/generated/sklearn.ensemble.RandomForestClassifier.html#sklearn.ensemble.RandomForestClassifier.predict)\n",
    "Essa e a função de utilizar o classificador para predizer a classe de cada termo da entrada passando eles por cada árvore da floresta e selecionando pra cada termo a classe mas votada para ele, e retorna um vetor com cada predição de rótulo na ordem de entrada.\n",
    "\n",
    "### [apply(X)]( https://scikit-learn.org/stable/modules/generated/sklearn.ensemble.RandomForestClassifier.html#sklearn.ensemble.RandomForestClassifier.apply)\n",
    "Essa função permite receber separadamente para cada elemento de X as predições feitas como se fosse usando a função predict de cada uma das árvores na floresta em um formato de matriz (quantidade de elementos em X, quantidade de arvores).\n",
    "\n",
    "### [predict_proba(X)]( https://scikit-learn.org/stable/modules/generated/sklearn.ensemble.RandomForestClassifier.html#sklearn.ensemble.RandomForestClassifier.predict_proba)\n",
    "Parecida com a predict a predict_proba utiliza o estimador para predizer o rótulo de cada termo da entrada, porem diferentemente do predict que retorna um vetor com cada rótulo ele retorna uma matriz com a probabilidade de ser cada classe (quantidade de elementos em X, quantidade de classes).\n",
    "\n",
    "### [score(X, y)]( https://scikit-learn.org/stable/modules/generated/sklearn.ensemble.RandomForestClassifier.html#sklearn.ensemble.RandomForestClassifier.score)\n",
    "Essa e a função fornecida pela random forest do sklearn que permite uma auto avaliação do programa e retorna à acurácia media do processo de predição dos elementos X utilizando como base a variável y que seriam os rótulos de X.\n",
    "\n"
   ]
  },
  {
   "cell_type": "markdown",
   "metadata": {},
   "source": [
    "# Aplicação\n",
    "\n",
    "O hospital Albert Einstein, em São Paulo, disponibilizou uma [base de dados](https://www.kaggle.com/einsteindata4u/covid19) de pacientes anônimos que fizeram o teste para o COVID-19, a base possui diversos dados clínicos dos pacientes junto ao resultado dos testes feitos.\n",
    "\n",
    "Para demonstrar o uso do algoritmo de classificação Random Forest em um problema real, a base do COVID-19 foi utilizada para treinar um classificador utilizando a implementação do algoritmo disponível na biblioteca sklearn. O classificador possui o intuito de prever a condição de pacientes com a doença utilizando seus dados clínicos como sinais, sintomas, testes de outras doenças, entre outras informações."
   ]
  },
  {
   "cell_type": "code",
   "execution_count": 1,
   "metadata": {},
   "outputs": [],
   "source": [
    "import pandas as pd\n",
    "from sklearn.ensemble import RandomForestClassifier\n",
    "from sklearn.model_selection import train_test_split"
   ]
  },
  {
   "cell_type": "code",
   "execution_count": 2,
   "metadata": {},
   "outputs": [
    {
     "name": "stdout",
     "output_type": "stream",
     "text": [
      "Número de pacientes: 5644\n",
      "Número de atributos: 111\n"
     ]
    }
   ],
   "source": [
    "# Importando o dataset do Covid-19.\n",
    "data = pd.read_excel('dataset.xlsx')\n",
    "\n",
    "# Mostra o número de pacientes e atributos antes das transformações feitas.\n",
    "print(f'Número de pacientes: {data.shape[0]}')\n",
    "print(f'Número de atributos: {data.shape[1]}')"
   ]
  },
  {
   "cell_type": "markdown",
   "metadata": {},
   "source": [
    "Antes de utilizar o classificador, é necessário tratar os dados ausentes e os atributos desnecessários, em grande quantidade nesta base. Para isso selecionamos apenas os atributos que possuem dados presentes em mais de 20% dos pacientes, e selecionamos apenas os pacientes sem dados ausentes nesses atributos."
   ]
  },
  {
   "cell_type": "code",
   "execution_count": 3,
   "metadata": {
    "scrolled": true
   },
   "outputs": [
    {
     "name": "stdout",
     "output_type": "stream",
     "text": [
      "0    0.91716\n",
      "1    0.08284\n",
      "Name: SARS-Cov-2 exam result, dtype: float64\n",
      "-------------------------\n",
      "Número de pacientes: 1352\n",
      "Número de atributos: 22\n",
      "-------------------------\n",
      "Atributos selecionados:\n",
      "Patient age quantile, SARS-Cov-2 exam result, Patient addmited to regular ward (1=yes, 0=no), Patient addmited to semi-intensive unit (1=yes, 0=no), Patient addmited to intensive care unit (1=yes, 0=no), Respiratory Syncytial Virus, Influenza A, Influenza B, Parainfluenza 1, CoronavirusNL63, Rhinovirus/Enterovirus, Coronavirus HKU1, Parainfluenza 3, Chlamydophila pneumoniae, Adenovirus, Parainfluenza 4, Coronavirus229E, CoronavirusOC43, Inf A H1N1 2009, Bordetella pertussis, Metapneumovirus, Parainfluenza 2\n"
     ]
    }
   ],
   "source": [
    "# Retira os atributos que possuem dados presentes em menos de 20% dos pacientes.\n",
    "data_notnull = data.notnull().mean()*100\n",
    "useful = data_notnull[data_notnull > 20]\n",
    "data = data[[col for col in data.columns if col in useful]]\n",
    "\n",
    "# Retira os pacientes que possuem algum dado ausente nos atributos selecionados.\n",
    "data.dropna(subset=data.columns, inplace=True)\n",
    "\n",
    "# Retira o atributo de identificação, irrelevante para a análise.\n",
    "data.drop(columns=['Patient ID'], inplace=True)\n",
    "\n",
    "# Transforma dados categóricos em numéricos.\n",
    "data = data.replace({'positive': 1, 'negative': 0,\n",
    "                     'detected': 1, 'not_detected': 0})\n",
    "\n",
    "# Mostra a proporção de pacientes com e sem a doença na base de dados.\n",
    "print(data['SARS-Cov-2 exam result'].value_counts(normalize=True))\n",
    "print('-------------------------')\n",
    "\n",
    "# Mostra o número de pacientes e atributos após as transformações feitas.\n",
    "print(f'Número de pacientes: {data.shape[0]}')\n",
    "print(f'Número de atributos: {data.shape[1]}')\n",
    "print('-------------------------')\n",
    "\n",
    "# Mostra os atributos selecionados.\n",
    "print('Atributos selecionados:')\n",
    "print(', '.join(list(data)))"
   ]
  },
  {
   "cell_type": "markdown",
   "metadata": {},
   "source": [
    "Uma vez com os dados tratados em mãos, separamos o rótulo e os atributos preditivos a serem considerados pelo classificador."
   ]
  },
  {
   "cell_type": "code",
   "execution_count": 4,
   "metadata": {},
   "outputs": [],
   "source": [
    "# Resultado do exame.\n",
    "y = data['SARS-Cov-2 exam result']\n",
    "\n",
    "# Dados clínicos selecionados, sem o resultado do exame.\n",
    "X = data.drop(columns=['SARS-Cov-2 exam result'])"
   ]
  },
  {
   "cell_type": "markdown",
   "metadata": {},
   "source": [
    "Para treinar e testar o classificador, dividimos a base de dados em duas, uma com 70% dos pacientes para treinamento, e outra com 30% dos pacientes para testes."
   ]
  },
  {
   "cell_type": "code",
   "execution_count": 5,
   "metadata": {},
   "outputs": [],
   "source": [
    "# 70% para treinamento e 30% para teste.\n",
    "X_train, X_test, y_train, y_test = train_test_split(X, y, test_size=0.3)"
   ]
  },
  {
   "cell_type": "markdown",
   "metadata": {},
   "source": [
    "Para gerar o classificador utilizamos o `RandomForestClassifier` da biblioteca sklearn, e alguns parâmetros descritos abaixo:\n",
    "\n",
    "* __Quantidade de árvores__ (`n_estimators` = 100);\n",
    "* __Semente da função de aleatoriedade__ (random_state=0)"
   ]
  },
  {
   "cell_type": "code",
   "execution_count": 6,
   "metadata": {},
   "outputs": [],
   "source": [
    "classificador = RandomForestClassifier(n_estimators=100, random_state=0)"
   ]
  },
  {
   "cell_type": "markdown",
   "metadata": {},
   "source": [
    "Com o método `fit` treinamos o classificador com os elementos de treino, e utilizamos o método `predict` para predizer os resultados dos elementos de teste, utilizando do classificador treinado:"
   ]
  },
  {
   "cell_type": "code",
   "execution_count": 7,
   "metadata": {
    "scrolled": true
   },
   "outputs": [
    {
     "name": "stdout",
     "output_type": "stream",
     "text": [
      "[0 0 0 0 0 0 0 0 0 1 0 0 0 0 0 0 0 0 0 0 0 0 0 0 0 0 0 0 0 0 0 1 0 0 0 0 0\n",
      " 0 0 0 1 0 0 0 0 1 0 0 0 0 0 0 0 0 0 0 0 0 0 0 0 0 0 0 0 0 0 0 0 0 0 0 0 0\n",
      " 0 0 0 0 0 0 0 0 0 0 0 0 0 0 0 0 0 0 0 0 0 0 0 0 0 0 0 0 0 0 0 0 0 0 0 0 0\n",
      " 0 0 0 0 0 0 0 0 0 0 0 1 0 0 0 0 0 0 0 0 0 0 1 0 0 0 0 0 0 0 0 0 0 0 0 0 0\n",
      " 0 0 0 0 0 0 0 1 0 0 0 0 0 0 0 0 0 0 0 0 0 0 0 0 0 0 0 0 0 1 0 0 0 0 0 0 0\n",
      " 0 0 0 0 0 0 0 0 0 0 0 0 0 0 0 1 0 0 0 0 0 0 0 0 0 0 0 0 0 0 0 0 0 0 0 1 0\n",
      " 0 0 0 0 0 0 0 0 0 0 0 0 0 0 0 0 1 0 0 0 0 0 0 0 0 0 0 0 0 0 0 0 0 0 0 0 0\n",
      " 0 0 0 0 0 0 0 0 0 0 0 0 0 0 0 0 0 0 0 0 0 0 0 0 0 0 0 0 0 0 0 0 0 0 0 0 0\n",
      " 0 0 0 0 0 0 0 0 0 0 0 0 0 0 0 0 0 0 0 0 0 0 0 0 0 0 0 0 0 0 0 0 0 0 0 0 0\n",
      " 0 0 0 0 0 0 0 0 0 0 0 0 0 0 0 0 0 0 0 0 0 0 0 0 0 0 0 0 0 0 0 0 0 0 0 0 0\n",
      " 0 0 0 0 0 0 0 0 0 0 0 0 0 0 0 0 0 0 0 0 0 1 1 0 0 0 0 0 0 0 0 0 0 0 0 0]\n"
     ]
    }
   ],
   "source": [
    "classificador.fit(X_train, y_train)\n",
    "\n",
    "y_pred = classificador.predict(X_test)\n",
    "\n",
    "# Resultados obtidos pelo classificador.\n",
    "print(y_pred)"
   ]
  },
  {
   "cell_type": "markdown",
   "metadata": {},
   "source": [
    "É possível visualizar a predição de cada uma das árvores utilizando a função `apply`, onde as linhas representam as amostras, e cada coluna uma árvore:"
   ]
  },
  {
   "cell_type": "code",
   "execution_count": 8,
   "metadata": {},
   "outputs": [
    {
     "data": {
      "text/plain": [
       "array([[  5,   6,  23, ...,  11,   5,   3],\n",
       "       [140, 132, 132, ..., 162,  97, 134],\n",
       "       [  5,   6,  80, ...,  11,   5,   3],\n",
       "       ...,\n",
       "       [ 72,  68,  47, ...,  64,  37,  51],\n",
       "       [ 74,  69,  49, ...,  65,  39,  53],\n",
       "       [101, 136, 102, ..., 151, 115,  99]])"
      ]
     },
     "execution_count": 8,
     "metadata": {},
     "output_type": "execute_result"
    }
   ],
   "source": [
    "classificador.apply(X_test)"
   ]
  },
  {
   "cell_type": "markdown",
   "metadata": {},
   "source": [
    "## Resultados"
   ]
  },
  {
   "cell_type": "markdown",
   "metadata": {},
   "source": [
    "Comparando os resultados obtidos com os de teste, podemos calcular a acurácia do classificador utilizando a função `score`:"
   ]
  },
  {
   "cell_type": "code",
   "execution_count": 9,
   "metadata": {},
   "outputs": [
    {
     "name": "stdout",
     "output_type": "stream",
     "text": [
      "Acurácia do classificador: 93.60%\n"
     ]
    }
   ],
   "source": [
    "acuracia = classificador.score(X_test, y_test)*100\n",
    "\n",
    "print(f'Acurácia do classificador: {acuracia:.2f}%')"
   ]
  },
  {
   "cell_type": "markdown",
   "metadata": {},
   "source": [
    "Devido a abordagem aleatória adotada pelo algoritmo Random Forest, utilizar do algoritmo múltiplas vezes pode não gerar resultados iguais:"
   ]
  },
  {
   "cell_type": "code",
   "execution_count": 16,
   "metadata": {},
   "outputs": [
    {
     "name": "stdout",
     "output_type": "stream",
     "text": [
      "Acurácia do classificador: 93.84%\n"
     ]
    }
   ],
   "source": [
    "classificador = RandomForestClassifier(n_estimators=100)\n",
    "classificador.fit(X_train, y_train)\n",
    "y_pred = classificador.predict(X_test)\n",
    "acuracia = classificador.score(X_test, y_test)*100\n",
    "print(f'Acurácia do classificador: {acuracia:.2f}%')"
   ]
  },
  {
   "cell_type": "markdown",
   "metadata": {},
   "source": [
    "O parâmetro `random_state` pode ser utilizado para gerar um classificador com as mesmas características, utilizando de uma mesma seed:"
   ]
  },
  {
   "cell_type": "code",
   "execution_count": 11,
   "metadata": {},
   "outputs": [
    {
     "name": "stdout",
     "output_type": "stream",
     "text": [
      "Acurácia do classificador: 93.60%\n"
     ]
    }
   ],
   "source": [
    "classificador = RandomForestClassifier(n_estimators=100, random_state=0) # Mesmo valor utilizado\n",
    "classificador.fit(X_train, y_train)\n",
    "y_pred = classificador.predict(X_test)\n",
    "acuracia = classificador.score(X_test, y_test)*100\n",
    "print(f'Acurácia do classificador: {acuracia:.2f}%') # Mesma acurácia obtida"
   ]
  },
  {
   "cell_type": "markdown",
   "metadata": {},
   "source": [
    "Apesar da acurácia alta nos testes feitos, em bancos de dados desbalanceados a acurácia pode não ser uma boa métrica para apurar sua eficiência. Para visualizar melhor os resultados, utilizamos uma [__matriz de confusão__](https://en.wikipedia.org/wiki/Confusion_matrix) e as métricas [__precision e recall__](https://en.wikipedia.org/wiki/Precision_and_recall):"
   ]
  },
  {
   "cell_type": "code",
   "execution_count": 12,
   "metadata": {},
   "outputs": [
    {
     "data": {
      "image/png": "[encoded data removed]",
      "text/plain": [
       "<Figure size 432x288 with 2 Axes>"
      ]
     },
     "metadata": {
      "needs_background": "light"
     },
     "output_type": "display_data"
    }
   ],
   "source": [
    "from sklearn.metrics import confusion_matrix\n",
    "import seaborn as sns\n",
    "import numpy as np\n",
    "\n",
    "# Mostra a matriz de confusão dos resultados obtidos.\n",
    "def show_confusion(y_test, y_pred):\n",
    "        cf_matrix = confusion_matrix(y_test, y_pred)\n",
    "        group_names = ['Verdadeiro Negativo','Falso Positivo','Falso Negativo','Verdadeiro Positivo']\n",
    "        group_counts = [\"{0:0.0f}\".format(value) for value in\n",
    "                        cf_matrix.flatten()]\n",
    "        group_percentages = [\"{0:.2%}\".format(value) for value in\n",
    "                             cf_matrix.flatten()/np.sum(cf_matrix)]\n",
    "        labels = [f\"{v1}\\n{v2}\\n{v3}\" for v1, v2, v3 in\n",
    "                  zip(group_names,group_counts,group_percentages)]\n",
    "        labels = np.asarray(labels).reshape(2,2)\n",
    "        sns.heatmap(cf_matrix, annot=labels, fmt='', cmap='Blues')\n",
    "        \n",
    "show_confusion(y_test, y_pred)"
   ]
  },
  {
   "cell_type": "code",
   "execution_count": 13,
   "metadata": {},
   "outputs": [
    {
     "name": "stdout",
     "output_type": "stream",
     "text": [
      "              precision    recall  f1-score   support\n",
      "\n",
      "           0       0.95      0.98      0.97       379\n",
      "           1       0.54      0.26      0.35        27\n",
      "\n",
      "    accuracy                           0.94       406\n",
      "   macro avg       0.74      0.62      0.66       406\n",
      "weighted avg       0.92      0.94      0.93       406\n",
      "\n"
     ]
    }
   ],
   "source": [
    "from sklearn.metrics import classification_report\n",
    "\n",
    "print(classification_report(y_test, y_pred))"
   ]
  },
  {
   "cell_type": "markdown",
   "metadata": {},
   "source": [
    "É possível perceber que apesar da acurácia alta, os valores de `precision` e `recall` para os resultados positivos são muito baixos, um resultado pouco desejado tendo em vista o contexto do classificador, pois um valor baixo de recall mostra que o classificador errou a condição de grande parte dos pacientes com COVID-19 (Falso negativo), um resultado distante do ideal tendo em vista que pacientes não alertados podem proliferar mais o vírus."
   ]
  },
  {
   "cell_type": "markdown",
   "metadata": {},
   "source": [
    "Para melhorar o recall é possível utilizar do parâmetro `sample_weight` e adicionar um peso maior para os pacientes com COVID-19:"
   ]
  },
  {
   "cell_type": "code",
   "execution_count": 14,
   "metadata": {},
   "outputs": [
    {
     "name": "stdout",
     "output_type": "stream",
     "text": [
      "              precision    recall  f1-score   support\n",
      "\n",
      "           0       0.97      0.78      0.86       379\n",
      "           1       0.18      0.70      0.29        27\n",
      "\n",
      "    accuracy                           0.77       406\n",
      "   macro avg       0.58      0.74      0.58       406\n",
      "weighted avg       0.92      0.77      0.83       406\n",
      "\n",
      "Acurácia do classificador: 77.09%\n"
     ]
    },
    {
     "data": {
      "image/png": "[encoded data removed]",
      "text/plain": [
       "<Figure size 432x288 with 2 Axes>"
      ]
     },
     "metadata": {
      "needs_background": "light"
     },
     "output_type": "display_data"
    }
   ],
   "source": [
    "# Gera um vetor com pesos 1 para pacientes negativos e 10 para pacientes positivos para COVID-19.\n",
    "pesos = [10 if i else 1 for i in y_train]\n",
    "\n",
    "classificador = RandomForestClassifier(n_estimators=100, random_state=0)\n",
    "classificador.fit(X_train, y_train, sample_weight=pesos)\n",
    "y_pred = classificador.predict(X_test)\n",
    "acuracia = classificador.score(X_test, y_test)*100\n",
    "\n",
    "# Mostra as métricas.\n",
    "print(classification_report(y_test, y_pred))\n",
    "print(f'Acurácia do classificador: {acuracia:.2f}%')\n",
    "show_confusion(y_test, y_pred)"
   ]
  },
  {
   "cell_type": "markdown",
   "metadata": {},
   "source": [
    "A melhoria no `recall` causou um resultado pior na acurácia do classificador, aumentando muito a quantidade de falsos positivos e consequentemente abaixando o valor do `precision`, porém exibindo melhores resultados em detectar pacientes com a doença."
   ]
  }
 ],
 "metadata": {
  "kernelspec": {
   "display_name": "Python 3",
   "language": "python",
   "name": "python3"
  },
  "language_info": {
   "codemirror_mode": {
    "name": "ipython",
    "version": 3
   },
   "file_extension": ".py",
   "mimetype": "text/x-python",
   "name": "python",
   "nbconvert_exporter": "python",
   "pygments_lexer": "ipython3",
   "version": "3.7.5"
  }
 },
 "nbformat": 4,
 "nbformat_minor": 4
}
