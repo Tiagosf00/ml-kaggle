{
 "cells": [
  {
   "cell_type": "markdown",
   "metadata": {},
   "source": []
  },
  {
   "cell_type": "code",
   "execution_count": 56,
   "metadata": {},
   "outputs": [],
   "source": [
    "from collections import Counter\n",
    "\n",
    "import pandas as pd\n",
    "import numpy as np\n",
    "import xgboost as xgb\n",
    "\n",
    "import matplotlib.pyplot as plt\n",
    "from sklearn.metrics import accuracy_score\n",
    "from sklearn.metrics import f1_score\n",
    "from sklearn.metrics import confusion_matrix\n",
    "import gc\n",
    "\n",
    "from sklearn.model_selection import train_test_split\n",
    "from sklearn.preprocessing import LabelEncoder\n",
    "\n",
    "from sklearn.metrics._plot.confusion_matrix \\\n",
    "    import ConfusionMatrixDisplay\n",
    "\n",
    "def plot_confusion_matrix(estimator, X, y_true, *, labels=None,\n",
    "                          sample_weight=None, normalize=None,\n",
    "                          display_labels=None, include_values=True,\n",
    "                          xticks_rotation='horizontal',\n",
    "                          values_format=None,\n",
    "                          cmap='viridis', ax=None):\n",
    "\n",
    "\n",
    "    y_pred = estimator.predict(X)\n",
    "    y_pred = (y_pred >= .3).astype(np.int8)\n",
    "    \n",
    "    cm = confusion_matrix(y_true, y_pred, sample_weight=sample_weight,\n",
    "                          labels=labels, normalize=normalize)\n",
    "\n",
    "    display_labels = labels\n",
    "\n",
    "    disp = ConfusionMatrixDisplay(confusion_matrix=cm,\n",
    "                                  display_labels=display_labels)\n",
    "    return disp.plot(include_values=include_values,\n",
    "                     cmap=cmap, ax=ax, xticks_rotation=xticks_rotation,\n",
    "                     values_format=values_format)"
   ]
  },
  {
   "cell_type": "code",
   "execution_count": 57,
   "metadata": {},
   "outputs": [],
   "source": [
    "Xy = pd.read_csv('train.csv')\n",
    "X, y = Xy.iloc[:, :-1], Xy.iloc[:, -1]\n",
    "data_test = pd.read_csv('test.csv')"
   ]
  },
  {
   "cell_type": "code",
   "execution_count": 58,
   "metadata": {},
   "outputs": [],
   "source": [
    "Xy.drop('id', axis=1, inplace=True)\n",
    "data_test.drop('id', axis=1, inplace=True)"
   ]
  },
  {
   "cell_type": "markdown",
   "metadata": {},
   "source": [
    "### Primeiramente, vejamos os nomes das colunas bem como quais os respectivos tipos de dados."
   ]
  },
  {
   "cell_type": "code",
   "execution_count": 59,
   "metadata": {},
   "outputs": [
    {
     "name": "stdout",
     "output_type": "stream",
     "text": [
      "bin_0 dtype: int64\n",
      "bin_1 dtype: int64\n",
      "bin_2 dtype: int64\n",
      "bin_3 dtype: object\n",
      "bin_4 dtype: object\n",
      "nom_0 dtype: object\n",
      "nom_1 dtype: object\n",
      "nom_2 dtype: object\n",
      "nom_3 dtype: object\n",
      "nom_4 dtype: object\n",
      "nom_5 dtype: object\n",
      "nom_6 dtype: object\n",
      "nom_7 dtype: object\n",
      "nom_8 dtype: object\n",
      "nom_9 dtype: object\n",
      "ord_0 dtype: int64\n",
      "ord_1 dtype: object\n",
      "ord_2 dtype: object\n",
      "ord_3 dtype: object\n",
      "ord_4 dtype: object\n",
      "ord_5 dtype: object\n",
      "day dtype: int64\n",
      "month dtype: int64\n",
      "target dtype: int64\n"
     ]
    }
   ],
   "source": [
    "for c in Xy.columns:\n",
    "    print(c, 'dtype:', Xy[c].dtype)"
   ]
  },
  {
   "cell_type": "markdown",
   "metadata": {},
   "source": [
    "Note-se que há atributos não-numéricos na base. Portanto, é necessário um mapeamento desses atributos para números uma vez que o **xgboost só trabalha com atributos numéricos**.\n",
    "Então...\n",
    "## Hora de fazer o encoding para executar o xgboost sobre os dados"
   ]
  },
  {
   "cell_type": "markdown",
   "metadata": {},
   "source": [
    "Abaixo, a (extremamaneto simplificada) função responsável por esse mmapeamento.  \n",
    "Basicamente, para cada atributo não-numérico (nesta base, são todos do tipo *object*) que é também _nominal_, cria-se *n* colunas, "
   ]
  },
  {
   "cell_type": "code",
   "execution_count": 60,
   "metadata": {},
   "outputs": [],
   "source": [
    "def dummy_df_encoder(data,\n",
    "    encoder_ord=LabelEncoder(),\n",
    "    ord_dict={}):\n",
    "    _ = data.copy()\n",
    "    for c, dt in zip(_.columns, _.dtypes):\n",
    "        v = _[c]\n",
    "        if dt == 'object':\n",
    "            if c.startswith('nom_'):\n",
    "                if len(v.unique()) < 10:\n",
    "                    _[ v.unique() ] = pd.get_dummies(v)\n",
    "                    _.drop(c, axis=1, inplace=True)\n",
    "                else:\n",
    "                    _[c] = encoder_ord.fit_transform(v)\n",
    "            else:\n",
    "                if c in ord_dict:\n",
    "                    _[c] = pd.Categorical(\n",
    "                                v,categories=ord_dict[c], ordered=True\n",
    "                            ).codes\n",
    "                else:\n",
    "                    _[c] = pd.Categorical(\n",
    "                                v,categories=v.unique(), ordered=True\n",
    "                            ).codes                    \n",
    "    return _\n"
   ]
  },
  {
   "cell_type": "markdown",
   "metadata": {},
   "source": [
    "Por haverem atributos ordinais, faz sentido convertê-los para números que mantém a relação de ordem estabelecida na base original. Entretanto, o grupo apenas foi capaz de estabelecer relações de ordem a 2 atributos ordinais: **ord_1** e **ord_2**. Portanto, os outros atributos ordinais foram transformados em números que não preservam seja lá qual fosse a relação de ordem original."
   ]
  },
  {
   "cell_type": "code",
   "execution_count": 61,
   "metadata": {},
   "outputs": [],
   "source": [
    "# Ordem entre os atributos ordinais\n",
    "ordering_dict = {\n",
    "    'ord_1': [\n",
    "        'Novice',\n",
    "        'Contributor',\n",
    "        'Expert',\n",
    "        'Master',\n",
    "        'Grandmaster'],\n",
    "    'ord_2': [\n",
    "        'Freezing',\n",
    "        'Cold',\n",
    "        'Warm',\n",
    "        'Hot',\n",
    "        'Boiling Hot',\n",
    "        'Lava Hot'],\n",
    "}"
   ]
  },
  {
   "cell_type": "markdown",
   "metadata": {},
   "source": [
    "### Transformação da base original para uma cujos atributos são todos numéricos."
   ]
  },
  {
   "cell_type": "code",
   "execution_count": 62,
   "metadata": {},
   "outputs": [
    {
     "name": "stdout",
     "output_type": "stream",
     "text": [
      "CPU times: user 1.05 s, sys: 95.9 ms, total: 1.15 s\n",
      "Wall time: 1.22 s\n"
     ]
    }
   ],
   "source": [
    "%%time\n",
    "train_encoded = dummy_df_encoder( X.drop('id', axis=1),\n",
    "                                 ord_dict=ordering_dict\n",
    "                                )"
   ]
  },
  {
   "cell_type": "markdown",
   "metadata": {},
   "source": [
    "### Separação dos dados em conjunto de treinamento e teste."
   ]
  },
  {
   "cell_type": "code",
   "execution_count": 63,
   "metadata": {},
   "outputs": [
    {
     "name": "stdout",
     "output_type": "stream",
     "text": [
      "CPU times: user 89 ms, sys: 3.95 ms, total: 93 ms\n",
      "Wall time: 114 ms\n"
     ]
    }
   ],
   "source": [
    "%%time\n",
    "X_train, X_test, y_train, y_test = train_test_split(\n",
    "    train_encoded, y, test_size=.2, random_state=42\n",
    ")"
   ]
  },
  {
   "cell_type": "markdown",
   "metadata": {},
   "source": [
    "## Preparação do formato dos dados\n",
    "Para a utilização do xgboost por meio de sua interface nativa, é preciso antes converter os dados de treinamento e teste para formatos específicos da biblioteca. Essas transformações são realizadas na célula abaixo"
   ]
  },
  {
   "cell_type": "code",
   "execution_count": 64,
   "metadata": {},
   "outputs": [],
   "source": [
    "dtrain = xgb.DMatrix(data=X_train, label=y_train)\n",
    "dtest = xgb.DMatrix(data=X_test, label=y_test)"
   ]
  },
  {
   "cell_type": "markdown",
   "metadata": {},
   "source": [
    "## Preparação dos parâmetros\n",
    "A função **xgboost.train** recebe os parâmetros para o *booster* na forma de um dicionário (conforme variável *best_param*). Outros parâmetros podem ser passados, como por exemplo conjuntos a serem utilizados como teste a fim de que o treinamento de encerre antes do limite estipulado por *num_boost_round* caso a performance do modelo quando aplicado a esses conjuntos de testes deixe de aumentar após *early_stopping_rounds* árvores adicionadas ao modelo."
   ]
  },
  {
   "cell_type": "code",
   "execution_count": 65,
   "metadata": {},
   "outputs": [],
   "source": [
    "eval_set = [\n",
    "    (dtest, 'test')\n",
    "]\n",
    "\n",
    "best_param = {\n",
    "    'max_depth':3,\n",
    "    'eta':1,\n",
    "    'objective':'binary:logistic',    \n",
    "}\n",
    "num_boost_round = 100\n",
    "early_stopping_rounds = 20"
   ]
  },
  {
   "cell_type": "markdown",
   "metadata": {},
   "source": [
    "## Finalmente, trainamos o modelo."
   ]
  },
  {
   "cell_type": "code",
   "execution_count": 66,
   "metadata": {
    "collapsed": true
   },
   "outputs": [
    {
     "name": "stdout",
     "output_type": "stream",
     "text": [
      "[0]\ttest-error:0.30538\n",
      "Will train until test-error hasn't improved in 20 rounds.\n",
      "[1]\ttest-error:0.29615\n",
      "[2]\ttest-error:0.29203\n",
      "[3]\ttest-error:0.28897\n",
      "[4]\ttest-error:0.28657\n",
      "[5]\ttest-error:0.28477\n",
      "[6]\ttest-error:0.28308\n",
      "[7]\ttest-error:0.28032\n",
      "[8]\ttest-error:0.27963\n",
      "[9]\ttest-error:0.27817\n",
      "[10]\ttest-error:0.27643\n",
      "[11]\ttest-error:0.27608\n",
      "[12]\ttest-error:0.27418\n",
      "[13]\ttest-error:0.27355\n",
      "[14]\ttest-error:0.27357\n",
      "[15]\ttest-error:0.27183\n",
      "[16]\ttest-error:0.27120\n",
      "[17]\ttest-error:0.27088\n",
      "[18]\ttest-error:0.27067\n",
      "[19]\ttest-error:0.27030\n",
      "[20]\ttest-error:0.27003\n",
      "[21]\ttest-error:0.26848\n",
      "[22]\ttest-error:0.26662\n",
      "[23]\ttest-error:0.26592\n",
      "[24]\ttest-error:0.26563\n",
      "[25]\ttest-error:0.26573\n",
      "[26]\ttest-error:0.26500\n",
      "[27]\ttest-error:0.26500\n",
      "[28]\ttest-error:0.26460\n",
      "[29]\ttest-error:0.26335\n",
      "[30]\ttest-error:0.26355\n",
      "[31]\ttest-error:0.26328\n",
      "[32]\ttest-error:0.26305\n",
      "[33]\ttest-error:0.26213\n",
      "[34]\ttest-error:0.26192\n",
      "[35]\ttest-error:0.26200\n",
      "[36]\ttest-error:0.26082\n",
      "[37]\ttest-error:0.26022\n",
      "[38]\ttest-error:0.26040\n",
      "[39]\ttest-error:0.26027\n",
      "[40]\ttest-error:0.25998\n",
      "[41]\ttest-error:0.25965\n",
      "[42]\ttest-error:0.25968\n",
      "[43]\ttest-error:0.25965\n",
      "[44]\ttest-error:0.25948\n",
      "[45]\ttest-error:0.25942\n",
      "[46]\ttest-error:0.25960\n",
      "[47]\ttest-error:0.25955\n",
      "[48]\ttest-error:0.25937\n",
      "[49]\ttest-error:0.25893\n",
      "[50]\ttest-error:0.25850\n",
      "[51]\ttest-error:0.25803\n",
      "[52]\ttest-error:0.25845\n",
      "[53]\ttest-error:0.25815\n",
      "[54]\ttest-error:0.25770\n",
      "[55]\ttest-error:0.25748\n",
      "[56]\ttest-error:0.25752\n",
      "[57]\ttest-error:0.25722\n",
      "[58]\ttest-error:0.25712\n",
      "[59]\ttest-error:0.25653\n",
      "[60]\ttest-error:0.25650\n",
      "[61]\ttest-error:0.25627\n",
      "[62]\ttest-error:0.25620\n",
      "[63]\ttest-error:0.25670\n",
      "[64]\ttest-error:0.25648\n",
      "[65]\ttest-error:0.25598\n",
      "[66]\ttest-error:0.25595\n",
      "[67]\ttest-error:0.25583\n",
      "[68]\ttest-error:0.25620\n",
      "[69]\ttest-error:0.25622\n",
      "[70]\ttest-error:0.25633\n",
      "[71]\ttest-error:0.25627\n",
      "[72]\ttest-error:0.25615\n",
      "[73]\ttest-error:0.25607\n",
      "[74]\ttest-error:0.25595\n",
      "[75]\ttest-error:0.25590\n",
      "[76]\ttest-error:0.25600\n",
      "[77]\ttest-error:0.25612\n",
      "[78]\ttest-error:0.25625\n",
      "[79]\ttest-error:0.25615\n",
      "[80]\ttest-error:0.25632\n",
      "[81]\ttest-error:0.25622\n",
      "[82]\ttest-error:0.25638\n",
      "[83]\ttest-error:0.25643\n",
      "[84]\ttest-error:0.25678\n",
      "[85]\ttest-error:0.25685\n",
      "[86]\ttest-error:0.25693\n",
      "[87]\ttest-error:0.25715\n",
      "Stopping. Best iteration:\n",
      "[67]\ttest-error:0.25583\n",
      "\n"
     ]
    }
   ],
   "source": [
    "model = xgb.train(\n",
    "    best_param,\n",
    "    dtrain,\n",
    "    num_boost_round,\n",
    "    early_stopping_rounds=early_stopping_rounds,\n",
    "    evals=eval_set\n",
    ")"
   ]
  },
  {
   "cell_type": "markdown",
   "metadata": {},
   "source": [
    "## O modelo retornado por xgb.train não é o melhor, mas sim o último.\n",
    "\n",
    "Portanto, devemos treinar novamente o modelo porém apenas até a n-ésima iteração. Neste caso, n=67."
   ]
  },
  {
   "cell_type": "code",
   "execution_count": 67,
   "metadata": {
    "scrolled": true
   },
   "outputs": [
    {
     "name": "stdout",
     "output_type": "stream",
     "text": [
      "CPU times: user 38.8 s, sys: 8.04 ms, total: 38.8 s\n",
      "Wall time: 4.91 s\n"
     ]
    }
   ],
   "source": [
    "%%time\n",
    "best = xgb.train(best_param, dtrain, model.best_iteration + 1,\n",
    "                evals=eval_set, verbose_eval=0\n",
    ")"
   ]
  },
  {
   "cell_type": "markdown",
   "metadata": {},
   "source": [
    "### A seguir, resultados obtidos a partir de interpretação das probabilidades produzidas pelo modelo de acordo com diversos limiares (*threshold*)."
   ]
  },
  {
   "cell_type": "code",
   "execution_count": 71,
   "metadata": {},
   "outputs": [
    {
     "data": {
      "image/png": "[encoded data removed]",
      "text/plain": [
       "<Figure size 432x288 with 1 Axes>"
      ]
     },
     "metadata": {
      "needs_background": "light"
     },
     "output_type": "display_data"
    },
    {
     "name": "stdout",
     "output_type": "stream",
     "text": [
      "thresh: 0.3, f1_score: 0.5802, accuracy: 0.68867\n",
      "CPU times: user 2.28 s, sys: 104 ms, total: 2.38 s\n",
      "Wall time: 1.92 s\n"
     ]
    }
   ],
   "source": [
    "%%time\n",
    "preds = best.predict(dtest)\n",
    "thresh_lis = []\n",
    "accuracy_lis = []\n",
    "f1_lis = []\n",
    "pred_lis = []\n",
    "for prob in np.arange(0.1, 0.9, .01):\n",
    "    pred_lis.append(preds)\n",
    "    discretized_preds = (preds >= prob).astype(np.int8)\n",
    "    thresh_lis.append(prob)\n",
    "    accuracy_lis.append(accuracy_score(y_test, discretized_preds))\n",
    "    f1_lis.append(f1_score(y_test, discretized_preds))\n",
    "\n",
    "\n",
    "area = np.ones(len(thresh_lis))\n",
    "area[f1_lis.index(max(f1_lis))] = 10\n",
    "# Ponto com maior f1_score e sua respectiva acurácia\n",
    "\n",
    "plt.scatter(thresh_lis, f1_lis, s=area, c='red')\n",
    "plt.scatter(thresh_lis, accuracy_lis, s=area, c='blue')\n",
    "\n",
    "plt.legend(['f1_score', 'acurácia'])\n",
    "plt.show()\n",
    "ma = max(f1_lis)\n",
    "ima = f1_lis.index(ma)\n",
    "print('thresh: {:.4}, f1_score: {:.4f}, accuracy: {:.5f}'.format(\n",
    "    thresh_lis[ima], f1_lis[ima], accuracy_lis[ima]))"
   ]
  },
  {
   "cell_type": "markdown",
   "metadata": {},
   "source": [
    "## Abaixo, a matriz de confusão correspondente ao melhor resultado acima"
   ]
  },
  {
   "cell_type": "code",
   "execution_count": 72,
   "metadata": {},
   "outputs": [
    {
     "data": {
      "image/png": "[encoded data removed]",
      "text/plain": [
       "<Figure size 432x288 with 2 Axes>"
      ]
     },
     "metadata": {
      "needs_background": "light"
     },
     "output_type": "display_data"
    }
   ],
   "source": [
    "plot_confusion_matrix(\n",
    "    best, dtest, y_test, labels=[0, 1], normalize='all'\n",
    ");"
   ]
  },
  {
   "cell_type": "markdown",
   "metadata": {},
   "source": [
    "Claramente, não são bons resultados: temos uma acurária < 70% e f1_score ainda mais baixo, conforme mostrado no plot poucas células acima."
   ]
  }
 ],
 "metadata": {
  "kernelspec": {
   "display_name": "Python 3",
   "language": "python",
   "name": "python3"
  },
  "language_info": {
   "codemirror_mode": {
    "name": "ipython",
    "version": 3
   },
   "file_extension": ".py",
   "mimetype": "text/x-python",
   "name": "python",
   "nbconvert_exporter": "python",
   "pygments_lexer": "ipython3",
   "version": "3.8.1"
  }
 },
 "nbformat": 4,
 "nbformat_minor": 4
}
