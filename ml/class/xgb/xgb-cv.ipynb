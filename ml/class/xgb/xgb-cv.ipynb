{
 "cells": [
  {
   "cell_type": "markdown",
   "metadata": {},
   "source": [
    "## Este notebook tem por motivação apenas demonstrar como usar cross-validation + GridSearch com a biblioteca xgboost\n",
    "Explicações mais detalhadas acerca de *encoding* dos dados e mais, acesse [o link][main].\n",
    "Para explicações acerca do funcionamento do **xgboost**, acesse [aqui.][]\n",
    "\n",
    "[main]: main.ipynb\n",
    "[teorico]: xgb.ipynb"
   ]
  },
  {
   "cell_type": "code",
   "execution_count": 88,
   "metadata": {},
   "outputs": [],
   "source": [
    "import pandas as pd\n",
    "import xgboost as xgb\n",
    "import numpy as np\n",
    "import sklearn\n",
    "\n",
    "import category_encoders as ce\n",
    "import matplotlib.pyplot as plt\n",
    "import matplotlib as mplt\n",
    "\n",
    "from sklearn.model_selection import train_test_split\n",
    "from sklearn.model_selection import GridSearchCV\n",
    "from sklearn.model_selection import ParameterGrid\n",
    "\n",
    "from sklearn.model_selection import StratifiedKFold\n",
    "\n",
    "\n",
    "from sklearn.preprocessing import LabelEncoder\n",
    "\n",
    "from sklearn.metrics import f1_score, accuracy_score\n",
    "from sklearn.metrics import plot_confusion_matrix, confusion_matrix\n",
    "\n",
    "from time import time\n",
    "from sklearn.metrics import plot_confusion_matrix\n",
    "\n",
    "def dataframe_encoder(data, encoder=LabelEncoder()):\n",
    "    _ = data.copy()\n",
    "    for c in _.columns:\n",
    "        v = pd.Series(data[c].values, name=c, index=data.index)    \n",
    "        if v.dtype == 'object':\n",
    "            _[c] = encoder.fit_transform(_[c])\n",
    "    return _"
   ]
  },
  {
   "cell_type": "markdown",
   "metadata": {},
   "source": [
    "Como de praxe, carregamos os dados e dividimo-los em conjuntos de treinamento e teste. Além disso, *X* e *y* são os dados já mapeados para numéricos apenas."
   ]
  },
  {
   "cell_type": "code",
   "execution_count": 71,
   "metadata": {},
   "outputs": [],
   "source": [
    "train = pd.read_csv('train.csv').drop('id', axis=1)\n",
    "test = pd.read_csv('test.csv').drop('id', axis=1)\n",
    "\n",
    "X, y = dataframe_encoder(train.iloc[:, :-1]), train.iloc[:, -1]\n",
    "Xy = dataframe_encoder(train)\n",
    "\n",
    "X_train, X_test, y_train, y_test = train_test_split(\n",
    "    X, y, test_size=.2, random_state=42\n",
    ")"
   ]
  },
  {
   "cell_type": "markdown",
   "metadata": {},
   "source": [
    "# CrossValidation + GridSearch: API nativa\n",
    "Primeiro convertemos os dados para o formato esperado pela API nativa, depois são definidos os parâmetros a serem testados pelo GridSearch."
   ]
  },
  {
   "cell_type": "code",
   "execution_count": 109,
   "metadata": {},
   "outputs": [],
   "source": [
    "dtrain = xgb.DMatrix(\n",
    "    X,\n",
    "    label=y\n",
    ")\n",
    "param_opts = {\n",
    "    'max_depth':[2, 3, 4],\n",
    "    'eta':[.3,],\n",
    "    'gamma': [.5, 1],\n",
    "    'colsample_bytree': np.array([1.0,]),\n",
    "    'subsample': [1.0,],    \n",
    "}"
   ]
  },
  {
   "cell_type": "code",
   "execution_count": 110,
   "metadata": {},
   "outputs": [],
   "source": [
    "param_list = list(ParameterGrid(param_opts))"
   ]
  },
  {
   "cell_type": "code",
   "execution_count": 112,
   "metadata": {},
   "outputs": [
    {
     "name": "stdout",
     "output_type": "stream",
     "text": [
      "CPU times: user 4min 29s, sys: 420 ms, total: 4min 29s\n",
      "Wall time: 4min 29s\n"
     ]
    }
   ],
   "source": [
    "%%time\n",
    "for param in params_list:\n",
    "    model = xgb.cv(\n",
    "        param,\n",
    "        dtrain,\n",
    "        num_boost_round=100,\n",
    "        nfold=3,\n",
    "        stratified=True,\n",
    "        seed=42,\n",
    "        as_pandas=False,\n",
    "        shuffle=False\n",
    "    )\n",
    "    "
   ]
  },
  {
   "cell_type": "markdown",
   "metadata": {},
   "source": [
    "# CrossValidation + GridSearch: \"the sklearn-way\""
   ]
  },
  {
   "cell_type": "code",
   "execution_count": 107,
   "metadata": {},
   "outputs": [],
   "source": [
    "model = xgb.XGBRegressor(\n",
    "    n_jobs=-1,\n",
    "    random_state=42,    \n",
    ")\n",
    "param_opts = {\n",
    "    'max_depth':[2, 3, 4],\n",
    "    'eta':[.3,],\n",
    "    'gamma': [.5, 1],\n",
    "    'colsample_bytree': np.array([1.0,]),\n",
    "    'subsample': [1.0,],\n",
    "}"
   ]
  },
  {
   "cell_type": "code",
   "execution_count": 108,
   "metadata": {},
   "outputs": [
    {
     "name": "stdout",
     "output_type": "stream",
     "text": [
      "CPU times: user 27.1 s, sys: 488 ms, total: 27.6 s\n",
      "Wall time: 2min 18s\n"
     ]
    },
    {
     "data": {
      "text/plain": [
       "GridSearchCV(cv=3, error_score=nan,\n",
       "             estimator=XGBRegressor(base_score=None, booster=None,\n",
       "                                    colsample_bylevel=None,\n",
       "                                    colsample_bynode=None,\n",
       "                                    colsample_bytree=None, gamma=None,\n",
       "                                    gpu_id=None, importance_type='gain',\n",
       "                                    interaction_constraints=None,\n",
       "                                    learning_rate=None, max_delta_step=None,\n",
       "                                    max_depth=None, min_child_weight=None,\n",
       "                                    missing=nan, monotone_constraints=None,\n",
       "                                    n_estima...\n",
       "                                    random_state=42, reg_alpha=None,\n",
       "                                    reg_lambda=None, scale_pos_weight=None,\n",
       "                                    subsample=None, tree_method=None,\n",
       "                                    validate_parameters=False, verbosity=None),\n",
       "             iid='deprecated', n_jobs=-1,\n",
       "             param_grid={'colsample_bytree': array([1.]), 'eta': [0.3],\n",
       "                         'gamma': [0.5, 1], 'max_depth': [2, 3, 4],\n",
       "                         'subsample': [1.0]},\n",
       "             pre_dispatch='2*n_jobs', refit=True, return_train_score=False,\n",
       "             scoring=None, verbose=0)"
      ]
     },
     "execution_count": 108,
     "metadata": {},
     "output_type": "execute_result"
    }
   ],
   "source": [
    "%%time\n",
    "\n",
    "clf = GridSearchCV(\n",
    "    model,\n",
    "    param_opts,\n",
    "    cv=3,\n",
    "    verbose=0,\n",
    "    n_jobs=-1,\n",
    ");\n",
    "clf.fit(\n",
    "    X, y\n",
    ");"
   ]
  },
  {
   "cell_type": "markdown",
   "metadata": {},
   "source": [
    "A vantagem de usar tal abordagem é que ela segue um padrão bem definido e seguido pelo sklearn, não necessitando portanto de um conhecimento aespefícico acerca do funcionamento do *xgboost* para sua plena utilização."
   ]
  },
  {
   "cell_type": "markdown",
   "metadata": {},
   "source": [
    "### Para ver quais os parâmetros do melhor classificador, basta descomentar e executar a célula abaixo."
   ]
  },
  {
   "cell_type": "code",
   "execution_count": 113,
   "metadata": {},
   "outputs": [],
   "source": [
    "# clf.best_estimator_"
   ]
  },
  {
   "cell_type": "code",
   "execution_count": 87,
   "metadata": {
    "scrolled": true
   },
   "outputs": [
    {
     "name": "stdout",
     "output_type": "stream",
     "text": [
      "CPU times: user 15.8 s, sys: 24 ms, total: 15.8 s\n",
      "Wall time: 15.9 s\n"
     ]
    },
    {
     "data": {
      "text/plain": [
       "XGBClassifier(base_score=0.5, booster=None, colsample_bylevel=1,\n",
       "              colsample_bynode=1, colsample_bytree=1, gamma=0, gpu_id=-1,\n",
       "              importance_type='gain', interaction_constraints=None,\n",
       "              learning_rate=1, max_delta_step=0, max_depth=3,\n",
       "              min_child_weight=1, missing=nan, monotone_constraints=None,\n",
       "              n_estimators=100, n_jobs=0, num_parallel_tree=1,\n",
       "              objective='binary:logistic', random_state=0, reg_alpha=0,\n",
       "              reg_lambda=1, scale_pos_weight=1, subsample=1, tree_method=None,\n",
       "              validate_parameters=False, verbosity=None)"
      ]
     },
     "execution_count": 87,
     "metadata": {},
     "output_type": "execute_result"
    }
   ],
   "source": [
    "%%time\n",
    "best_param = {\n",
    "    'max_depth':3,\n",
    "    'eta':1,\n",
    "}\n",
    "model = xgb.XGBClassifier(\n",
    "    max_depth=3,\n",
    "    learning_rate=1,    \n",
    "    n_estimators=100,\n",
    ")\n",
    "model.fit(X_train, y_train);"
   ]
  },
  {
   "cell_type": "code",
   "execution_count": 121,
   "metadata": {},
   "outputs": [
    {
     "name": "stdout",
     "output_type": "stream",
     "text": [
      "acc: 0.68255\n",
      "f1: 0.5965729777815432\n",
      "Matriz de confusão:\n",
      " [[0.44783333 0.24678333]\n",
      " [0.07066667 0.23471667]]\n",
      "CPU times: user 344 ms, sys: 2 µs, total: 344 ms\n",
      "Wall time: 343 ms\n"
     ]
    }
   ],
   "source": [
    "%%time\n",
    "pred = (clf.predict(X_test) >= .3).astype(np.int8)\n",
    "print('acc:', accuracy_score(y_true=y_test, y_pred=pred))\n",
    "print('f1:', f1_score(y_true=y_test, y_pred=pred))\n",
    "print(\"Matriz de confusão:\\n\", confusion_matrix(y_test, pred, normalize='all'))"
   ]
  },
  {
   "cell_type": "code",
   "execution_count": null,
   "metadata": {},
   "outputs": [],
   "source": []
  }
 ],
 "metadata": {
  "kernelspec": {
   "display_name": "Python 3",
   "language": "python",
   "name": "python3"
  },
  "language_info": {
   "codemirror_mode": {
    "name": "ipython",
    "version": 3
   },
   "file_extension": ".py",
   "mimetype": "text/x-python",
   "name": "python",
   "nbconvert_exporter": "python",
   "pygments_lexer": "ipython3",
   "version": "3.8.1"
  }
 },
 "nbformat": 4,
 "nbformat_minor": 4
}
